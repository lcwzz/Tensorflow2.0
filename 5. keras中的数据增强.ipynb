{
 "cells": [
  {
   "cell_type": "markdown",
   "metadata": {},
   "source": [
    "# keras中的数据增强"
   ]
  },
  {
   "cell_type": "code",
   "execution_count": 1,
   "metadata": {},
   "outputs": [],
   "source": [
    "import os\n",
    "import tensorflow as tf\n",
    "from tensorflow import keras\n",
    "from tensorflow.keras.preprocessing.image import ImageDataGenerator\n",
    "import matplotlib.pyplot as plt"
   ]
  },
  {
   "cell_type": "markdown",
   "metadata": {},
   "source": [
    "### 1. 定义文件夹目录"
   ]
  },
  {
   "cell_type": "code",
   "execution_count": 2,
   "metadata": {},
   "outputs": [],
   "source": [
    "base_dir = \"dataset\\\\dog_and_cat\"\n",
    "\n",
    "train_dir = os.path.join(base_dir, \"train\")\n",
    "validation_dir = os.path.join(base_dir, \"test\")"
   ]
  },
  {
   "cell_type": "markdown",
   "metadata": {},
   "source": [
    "### 2. 使用图像增强，用以下方法\n",
    "\n",
    "    train_datagen = ImageDataGenerator(\n",
    "      rotation_range,\n",
    "      width_shift_range,\n",
    "      height_shift_range,\n",
    "      shear_range,\n",
    "      zoom_range,\n",
    "      horizontal_flip,\n",
    "      fill_mode)\n",
    "\n",
    "* rotation_range is a value in degrees (0–180), a range within which to randomly rotate pictures. \n",
    " 图片随机转动的角度（0-180）\n",
    "* width_shift and height_shift are ranges (as a fraction of total width or height) within which to randomly translate pictures vertically or horizontally.\n",
    " 图片宽度和高度的某个比例，数据增强时图片随机水平或者竖直偏移的幅度\n",
    "* shear_range is for randomly applying shearing transformations.\n",
    " 裁剪强度\n",
    "* zoom_range is for randomly zooming inside pictures.\n",
    " 随机缩放，相当于[lower,upper] = [1 - zoom_range, 1+zoom_range]\n",
    "* horizontal_flip is for randomly flipping half of the images horizontally.\n",
    " 随机的对图片进行水平翻转（vertical_flip --> 进行随机竖直翻转）\n",
    "* fill_mode is the strategy used for filling in newly created pixels, which can appear after a rotation or a width/height shift.\n",
    " 'constant'，‘nearest’，‘reflect’或‘wrap’之一，当进行变换时超出边界的点将根据本参数给定的方法进行处理"
   ]
  },
  {
   "cell_type": "code",
   "execution_count": 3,
   "metadata": {},
   "outputs": [],
   "source": [
    "train_data_gen_aug = ImageDataGenerator(rescale = 1./255,\n",
    "                                        rotation_range = 40,\n",
    "                                        shear_range = 0.2,\n",
    "                                        zoom_range = 0.2,\n",
    "                                        horizontal_flip = True,\n",
    "                                        vertical_flip =  True)\n",
    "validation_data_gen_aug = ImageDataGenerator(rescale = 1./255)"
   ]
  },
  {
   "cell_type": "code",
   "execution_count": 4,
   "metadata": {},
   "outputs": [
    {
     "name": "stdout",
     "output_type": "stream",
     "text": [
      "Found 2000 images belonging to 2 classes.\n",
      "Found 1000 images belonging to 2 classes.\n"
     ]
    }
   ],
   "source": [
    "train_generator_aug = train_data_gen_aug.flow_from_directory(train_dir,\n",
    "                                                     batch_size = 40, #2000个数据,训练50steps\n",
    "                                                     class_mode = 'binary',\n",
    "                                                     target_size=(150, 150))\n",
    "\n",
    "validation_generator_aug = validation_data_gen_aug.flow_from_directory(validation_dir,\n",
    "                                                               batch_size = 40,#1000个数据,测试25steps\n",
    "                                                               class_mode = 'binary',\n",
    "                                                               target_size = (150, 150))"
   ]
  },
  {
   "cell_type": "markdown",
   "metadata": {},
   "source": [
    "### 3. 构建模型训练"
   ]
  },
  {
   "cell_type": "code",
   "execution_count": 5,
   "metadata": {},
   "outputs": [
    {
     "name": "stdout",
     "output_type": "stream",
     "text": [
      "Model: \"sequential\"\n",
      "_________________________________________________________________\n",
      "Layer (type)                 Output Shape              Param #   \n",
      "=================================================================\n",
      "conv2d (Conv2D)              (None, 148, 148, 64)      1792      \n",
      "_________________________________________________________________\n",
      "conv2d_1 (Conv2D)            (None, 146, 146, 64)      36928     \n",
      "_________________________________________________________________\n",
      "batch_normalization (BatchNo (None, 146, 146, 64)      256       \n",
      "_________________________________________________________________\n",
      "max_pooling2d (MaxPooling2D) (None, 73, 73, 64)        0         \n",
      "_________________________________________________________________\n",
      "conv2d_2 (Conv2D)            (None, 71, 71, 128)       73856     \n",
      "_________________________________________________________________\n",
      "conv2d_3 (Conv2D)            (None, 69, 69, 128)       147584    \n",
      "_________________________________________________________________\n",
      "batch_normalization_1 (Batch (None, 69, 69, 128)       512       \n",
      "_________________________________________________________________\n",
      "max_pooling2d_1 (MaxPooling2 (None, 34, 34, 128)       0         \n",
      "_________________________________________________________________\n",
      "conv2d_4 (Conv2D)            (None, 32, 32, 256)       295168    \n",
      "_________________________________________________________________\n",
      "conv2d_5 (Conv2D)            (None, 30, 30, 256)       590080    \n",
      "_________________________________________________________________\n",
      "batch_normalization_2 (Batch (None, 30, 30, 256)       1024      \n",
      "_________________________________________________________________\n",
      "max_pooling2d_2 (MaxPooling2 (None, 15, 15, 256)       0         \n",
      "_________________________________________________________________\n",
      "conv2d_6 (Conv2D)            (None, 13, 13, 512)       1180160   \n",
      "_________________________________________________________________\n",
      "conv2d_7 (Conv2D)            (None, 11, 11, 512)       2359808   \n",
      "_________________________________________________________________\n",
      "batch_normalization_3 (Batch (None, 11, 11, 512)       2048      \n",
      "_________________________________________________________________\n",
      "global_average_pooling2d (Gl (None, 512)               0         \n",
      "_________________________________________________________________\n",
      "dense (Dense)                (None, 256)               131328    \n",
      "_________________________________________________________________\n",
      "dense_1 (Dense)              (None, 1)                 257       \n",
      "=================================================================\n",
      "Total params: 4,820,801\n",
      "Trainable params: 4,818,881\n",
      "Non-trainable params: 1,920\n",
      "_________________________________________________________________\n"
     ]
    }
   ],
   "source": [
    "model = keras.Sequential([\n",
    "    # Conv1\n",
    "    keras.layers.Conv2D(64, (3, 3), input_shape=(150, 150, 3), activation='relu'),\n",
    "    keras.layers.Conv2D(64, (3, 3), activation='relu'),\n",
    "    keras.layers.BatchNormalization(),\n",
    "    keras.layers.MaxPooling2D(),\n",
    "    # Conv2\n",
    "    keras.layers.Conv2D(128, (3, 3), activation='relu'),\n",
    "    keras.layers.Conv2D(128, (3, 3), activation='relu'),\n",
    "    keras.layers.BatchNormalization(),\n",
    "    keras.layers.MaxPooling2D(),\n",
    "    # Conv3\n",
    "    keras.layers.Conv2D(256, (3, 3), activation='relu'),\n",
    "    keras.layers.Conv2D(256, (3, 3), activation='relu'),\n",
    "    keras.layers.BatchNormalization(),\n",
    "    keras.layers.MaxPooling2D(),\n",
    "    # Conv4\n",
    "    keras.layers.Conv2D(512, (3, 3), activation='relu'),\n",
    "    keras.layers.Conv2D(512, (3, 3), activation='relu'),\n",
    "    keras.layers.BatchNormalization(),\n",
    "    keras.layers.GlobalAveragePooling2D(),\n",
    "    # Dense\n",
    "    keras.layers.Dense(256, activation='relu'),\n",
    "    keras.layers.Dense(1, activation='sigmoid')\n",
    "])\n",
    "model.summary()"
   ]
  },
  {
   "cell_type": "code",
   "execution_count": 6,
   "metadata": {},
   "outputs": [],
   "source": [
    "model.compile(optimizer = tf.keras.optimizers.Adam(),\n",
    "              loss = 'binary_crossentropy',\n",
    "              metrics = ['accuracy'])"
   ]
  },
  {
   "cell_type": "code",
   "execution_count": 7,
   "metadata": {},
   "outputs": [
    {
     "name": "stdout",
     "output_type": "stream",
     "text": [
      "Epoch 1/50\n",
      "50/50 [==============================] - 42s 849ms/step - loss: 0.7921 - accuracy: 0.5180 - val_loss: 0.6940 - val_accuracy: 0.5200\n",
      "Epoch 2/50\n",
      "50/50 [==============================] - 36s 721ms/step - loss: 0.6842 - accuracy: 0.5865 - val_loss: 1.0668 - val_accuracy: 0.5000\n",
      "Epoch 3/50\n",
      "50/50 [==============================] - 36s 722ms/step - loss: 0.6613 - accuracy: 0.6140 - val_loss: 2.0508 - val_accuracy: 0.4970\n",
      "Epoch 4/50\n",
      "50/50 [==============================] - 35s 697ms/step - loss: 0.6555 - accuracy: 0.6245 - val_loss: 1.0237 - val_accuracy: 0.5000\n",
      "Epoch 5/50\n",
      "50/50 [==============================] - 34s 689ms/step - loss: 0.6580 - accuracy: 0.6335 - val_loss: 1.2536 - val_accuracy: 0.5260\n",
      "Epoch 6/50\n",
      "50/50 [==============================] - 34s 690ms/step - loss: 0.6543 - accuracy: 0.6550 - val_loss: 0.9556 - val_accuracy: 0.5130\n",
      "Epoch 7/50\n",
      "50/50 [==============================] - 34s 688ms/step - loss: 0.6309 - accuracy: 0.6690 - val_loss: 0.7259 - val_accuracy: 0.5290\n",
      "Epoch 8/50\n",
      "50/50 [==============================] - 34s 688ms/step - loss: 0.6201 - accuracy: 0.6635 - val_loss: 0.7493 - val_accuracy: 0.5430\n",
      "Epoch 9/50\n",
      "50/50 [==============================] - 34s 688ms/step - loss: 0.6056 - accuracy: 0.6735 - val_loss: 0.7771 - val_accuracy: 0.5230\n",
      "Epoch 10/50\n",
      "50/50 [==============================] - 34s 686ms/step - loss: 0.6106 - accuracy: 0.6725 - val_loss: 0.9645 - val_accuracy: 0.5240\n",
      "Epoch 11/50\n",
      "50/50 [==============================] - 34s 687ms/step - loss: 0.5960 - accuracy: 0.6915 - val_loss: 0.9793 - val_accuracy: 0.5340\n",
      "Epoch 12/50\n",
      "50/50 [==============================] - 34s 687ms/step - loss: 0.5838 - accuracy: 0.7145 - val_loss: 0.7640 - val_accuracy: 0.5850\n",
      "Epoch 13/50\n",
      "50/50 [==============================] - 34s 687ms/step - loss: 0.5729 - accuracy: 0.7090 - val_loss: 0.7370 - val_accuracy: 0.5500\n",
      "Epoch 14/50\n",
      "50/50 [==============================] - 34s 688ms/step - loss: 0.5618 - accuracy: 0.7180 - val_loss: 0.7091 - val_accuracy: 0.5690\n",
      "Epoch 15/50\n",
      "50/50 [==============================] - 34s 687ms/step - loss: 0.5723 - accuracy: 0.7080 - val_loss: 0.6701 - val_accuracy: 0.6230\n",
      "Epoch 16/50\n",
      "50/50 [==============================] - 34s 688ms/step - loss: 0.5462 - accuracy: 0.7485 - val_loss: 0.7972 - val_accuracy: 0.5760\n",
      "Epoch 17/50\n",
      "50/50 [==============================] - 34s 689ms/step - loss: 0.5628 - accuracy: 0.7175 - val_loss: 0.8262 - val_accuracy: 0.5740\n",
      "Epoch 18/50\n",
      "50/50 [==============================] - 34s 689ms/step - loss: 0.5468 - accuracy: 0.7340 - val_loss: 0.8250 - val_accuracy: 0.6140\n",
      "Epoch 19/50\n",
      "50/50 [==============================] - 34s 687ms/step - loss: 0.5458 - accuracy: 0.7360 - val_loss: 0.8512 - val_accuracy: 0.6130\n",
      "Epoch 20/50\n",
      "50/50 [==============================] - 34s 686ms/step - loss: 0.5380 - accuracy: 0.7335 - val_loss: 0.7618 - val_accuracy: 0.5960\n",
      "Epoch 21/50\n",
      "50/50 [==============================] - 34s 689ms/step - loss: 0.5314 - accuracy: 0.7485 - val_loss: 0.6811 - val_accuracy: 0.6250\n",
      "Epoch 22/50\n",
      "50/50 [==============================] - 35s 690ms/step - loss: 0.5270 - accuracy: 0.7415 - val_loss: 0.6832 - val_accuracy: 0.6820\n",
      "Epoch 23/50\n",
      "50/50 [==============================] - 34s 688ms/step - loss: 0.5356 - accuracy: 0.7370 - val_loss: 0.8034 - val_accuracy: 0.6390\n",
      "Epoch 24/50\n",
      "50/50 [==============================] - 34s 689ms/step - loss: 0.5235 - accuracy: 0.7495 - val_loss: 0.5614 - val_accuracy: 0.7250\n",
      "Epoch 25/50\n",
      "50/50 [==============================] - 34s 689ms/step - loss: 0.5194 - accuracy: 0.7485 - val_loss: 0.6290 - val_accuracy: 0.6580\n",
      "Epoch 26/50\n",
      "50/50 [==============================] - 34s 689ms/step - loss: 0.5033 - accuracy: 0.7670 - val_loss: 0.6224 - val_accuracy: 0.6610\n",
      "Epoch 27/50\n",
      "50/50 [==============================] - 34s 689ms/step - loss: 0.5130 - accuracy: 0.7505 - val_loss: 1.4636 - val_accuracy: 0.5430\n",
      "Epoch 28/50\n",
      "50/50 [==============================] - 34s 688ms/step - loss: 0.5107 - accuracy: 0.7560 - val_loss: 0.8932 - val_accuracy: 0.5500\n",
      "Epoch 29/50\n",
      "50/50 [==============================] - 34s 688ms/step - loss: 0.4996 - accuracy: 0.7640 - val_loss: 0.6857 - val_accuracy: 0.6480\n",
      "Epoch 30/50\n",
      "50/50 [==============================] - 35s 694ms/step - loss: 0.5107 - accuracy: 0.7540 - val_loss: 0.9132 - val_accuracy: 0.5630\n",
      "Epoch 31/50\n",
      "50/50 [==============================] - 35s 691ms/step - loss: 0.5141 - accuracy: 0.7600 - val_loss: 0.5649 - val_accuracy: 0.7100\n",
      "Epoch 32/50\n",
      "50/50 [==============================] - 34s 688ms/step - loss: 0.4876 - accuracy: 0.7765 - val_loss: 0.6500 - val_accuracy: 0.6350\n",
      "Epoch 33/50\n",
      "50/50 [==============================] - 34s 688ms/step - loss: 0.4917 - accuracy: 0.7700 - val_loss: 0.6009 - val_accuracy: 0.6630\n",
      "Epoch 34/50\n",
      "50/50 [==============================] - 35s 700ms/step - loss: 0.4914 - accuracy: 0.7655 - val_loss: 0.5868 - val_accuracy: 0.6930\n",
      "Epoch 35/50\n",
      "50/50 [==============================] - 36s 722ms/step - loss: 0.4703 - accuracy: 0.7835 - val_loss: 0.6661 - val_accuracy: 0.6530\n",
      "Epoch 36/50\n",
      "50/50 [==============================] - 35s 691ms/step - loss: 0.4834 - accuracy: 0.7680 - val_loss: 0.5641 - val_accuracy: 0.7260\n",
      "Epoch 37/50\n",
      "50/50 [==============================] - 34s 688ms/step - loss: 0.4666 - accuracy: 0.7750 - val_loss: 0.6057 - val_accuracy: 0.7310\n",
      "Epoch 38/50\n",
      "50/50 [==============================] - 36s 718ms/step - loss: 0.4607 - accuracy: 0.7815 - val_loss: 0.6223 - val_accuracy: 0.6810\n",
      "Epoch 39/50\n",
      "50/50 [==============================] - 35s 705ms/step - loss: 0.4694 - accuracy: 0.7835 - val_loss: 0.6131 - val_accuracy: 0.6980\n",
      "Epoch 40/50\n",
      "50/50 [==============================] - 35s 691ms/step - loss: 0.4517 - accuracy: 0.7900 - val_loss: 0.7040 - val_accuracy: 0.6710\n",
      "Epoch 41/50\n",
      "50/50 [==============================] - 35s 690ms/step - loss: 0.4638 - accuracy: 0.7830 - val_loss: 0.6620 - val_accuracy: 0.6670\n",
      "Epoch 42/50\n",
      "50/50 [==============================] - 35s 692ms/step - loss: 0.4601 - accuracy: 0.7880 - val_loss: 0.7118 - val_accuracy: 0.7020\n",
      "Epoch 43/50\n",
      "50/50 [==============================] - 35s 692ms/step - loss: 0.4472 - accuracy: 0.7950 - val_loss: 0.6163 - val_accuracy: 0.7000\n",
      "Epoch 44/50\n",
      "50/50 [==============================] - 35s 692ms/step - loss: 0.4566 - accuracy: 0.7815 - val_loss: 0.5794 - val_accuracy: 0.7080\n",
      "Epoch 45/50\n",
      "50/50 [==============================] - 35s 693ms/step - loss: 0.4202 - accuracy: 0.8020 - val_loss: 0.6808 - val_accuracy: 0.6930\n",
      "Epoch 46/50\n",
      "50/50 [==============================] - 35s 698ms/step - loss: 0.4307 - accuracy: 0.7995 - val_loss: 0.6904 - val_accuracy: 0.6900\n",
      "Epoch 47/50\n",
      "50/50 [==============================] - 35s 700ms/step - loss: 0.4078 - accuracy: 0.8075 - val_loss: 0.6570 - val_accuracy: 0.6940\n",
      "Epoch 48/50\n",
      "50/50 [==============================] - 35s 704ms/step - loss: 0.4330 - accuracy: 0.7990 - val_loss: 0.4601 - val_accuracy: 0.7830\n",
      "Epoch 49/50\n",
      "50/50 [==============================] - 35s 706ms/step - loss: 0.4095 - accuracy: 0.8150 - val_loss: 0.6230 - val_accuracy: 0.7440\n",
      "Epoch 50/50\n",
      "50/50 [==============================] - 35s 694ms/step - loss: 0.4026 - accuracy: 0.8160 - val_loss: 0.5932 - val_accuracy: 0.6810\n"
     ]
    }
   ],
   "source": [
    "train = model.fit_generator(train_generator_aug,\n",
    "                            validation_data= validation_generator_aug,\n",
    "                            steps_per_epoch = 50,\n",
    "                            validation_steps= 25,\n",
    "                            epochs = 50,\n",
    "                            verbose = 1)#日志显示，0为不在标准输出流输出日志信息，1为输出进度条记录，2为每个epoch输出一行记录"
   ]
  },
  {
   "cell_type": "markdown",
   "metadata": {},
   "source": [
    "### 4. 可视化训练过程"
   ]
  },
  {
   "cell_type": "code",
   "execution_count": 8,
   "metadata": {},
   "outputs": [
    {
     "data": {
      "text/plain": [
       "<matplotlib.legend.Legend at 0x1c1c50c5a48>"
      ]
     },
     "execution_count": 8,
     "metadata": {},
     "output_type": "execute_result"
    },
    {
     "data": {
      "image/png": "[encoded data removed]",
      "text/plain": [
       "<Figure size 432x288 with 1 Axes>"
      ]
     },
     "metadata": {
      "needs_background": "light"
     },
     "output_type": "display_data"
    },
    {
     "data": {
      "image/png": "[encoded data removed]",
      "text/plain": [
       "<Figure size 432x288 with 1 Axes>"
      ]
     },
     "metadata": {
      "needs_background": "light"
     },
     "output_type": "display_data"
    }
   ],
   "source": [
    "acc      = train.history[     'accuracy' ]\n",
    "val_acc  = train.history[ 'val_accuracy' ]#validation accuracy\n",
    "loss     = train.history[    'loss' ]\n",
    "val_loss = train.history['val_loss' ] #validation loss\n",
    "\n",
    "\n",
    "plt.plot  ( train.epoch,     acc )\n",
    "plt.plot  ( train.epoch, val_acc )\n",
    "plt.title ('Training and validation accuracy')\n",
    "plt.legend(['train', 'validation'], loc='upper right')\n",
    "plt.figure()\n",
    "\n",
    "plt.plot  ( train.epoch,     loss )\n",
    "plt.plot  ( train.epoch, val_loss )\n",
    "plt.title ('Training and validation loss')\n",
    "plt.legend(['train', 'validation'], loc='upper right')"
   ]
  },
  {
   "cell_type": "code",
   "execution_count": null,
   "metadata": {},
   "outputs": [],
   "source": []
  }
 ],
 "metadata": {
  "kernelspec": {
   "display_name": "Python 3",
   "language": "python",
   "name": "python3"
  },
  "language_info": {
   "codemirror_mode": {
    "name": "ipython",
    "version": 3
   },
   "file_extension": ".py",
   "mimetype": "text/x-python",
   "name": "python",
   "nbconvert_exporter": "python",
   "pygments_lexer": "ipython3",
   "version": "3.7.5"
  }
 },
 "nbformat": 4,
 "nbformat_minor": 2
}
