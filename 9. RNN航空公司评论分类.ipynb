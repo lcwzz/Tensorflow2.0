{
 "cells": [
  {
   "cell_type": "markdown",
   "metadata": {},
   "source": [
    "# RNN航空公司评论分类"
   ]
  },
  {
   "cell_type": "code",
   "execution_count": 1,
   "metadata": {},
   "outputs": [
    {
     "data": {
      "text/plain": [
       "'2.0.0'"
      ]
     },
     "execution_count": 1,
     "metadata": {},
     "output_type": "execute_result"
    }
   ],
   "source": [
    "import tensorflow as tf\n",
    "from tensorflow.keras import layers\n",
    "import numpy as np\n",
    "import pandas as pd\n",
    "import matplotlib.pyplot as plt\n",
    "%matplotlib inline\n",
    "\n",
    "tf.__version__"
   ]
  },
  {
   "cell_type": "code",
   "execution_count": 2,
   "metadata": {},
   "outputs": [],
   "source": [
    "data = pd.read_csv(\"dataset/Tweets.csv\")"
   ]
  },
  {
   "cell_type": "code",
   "execution_count": 3,
   "metadata": {},
   "outputs": [
    {
     "data": {
      "text/html": [
       "<div>\n",
       "<style scoped>\n",
       "    .dataframe tbody tr th:only-of-type {\n",
       "        vertical-align: middle;\n",
       "    }\n",
       "\n",
       "    .dataframe tbody tr th {\n",
       "        vertical-align: top;\n",
       "    }\n",
       "\n",
       "    .dataframe thead th {\n",
       "        text-align: right;\n",
       "    }\n",
       "</style>\n",
       "<table border=\"1\" class=\"dataframe\">\n",
       "  <thead>\n",
       "    <tr style=\"text-align: right;\">\n",
       "      <th></th>\n",
       "      <th>tweet_id</th>\n",
       "      <th>airline_sentiment</th>\n",
       "      <th>airline_sentiment_confidence</th>\n",
       "      <th>negativereason</th>\n",
       "      <th>negativereason_confidence</th>\n",
       "      <th>airline</th>\n",
       "      <th>airline_sentiment_gold</th>\n",
       "      <th>name</th>\n",
       "      <th>negativereason_gold</th>\n",
       "      <th>retweet_count</th>\n",
       "      <th>text</th>\n",
       "      <th>tweet_coord</th>\n",
       "      <th>tweet_created</th>\n",
       "      <th>tweet_location</th>\n",
       "      <th>user_timezone</th>\n",
       "    </tr>\n",
       "  </thead>\n",
       "  <tbody>\n",
       "    <tr>\n",
       "      <th>0</th>\n",
       "      <td>570306133677760513</td>\n",
       "      <td>neutral</td>\n",
       "      <td>1.0000</td>\n",
       "      <td>NaN</td>\n",
       "      <td>NaN</td>\n",
       "      <td>Virgin America</td>\n",
       "      <td>NaN</td>\n",
       "      <td>cairdin</td>\n",
       "      <td>NaN</td>\n",
       "      <td>0</td>\n",
       "      <td>@VirginAmerica What @dhepburn said.</td>\n",
       "      <td>NaN</td>\n",
       "      <td>2015-02-24 11:35:52 -0800</td>\n",
       "      <td>NaN</td>\n",
       "      <td>Eastern Time (US &amp; Canada)</td>\n",
       "    </tr>\n",
       "    <tr>\n",
       "      <th>1</th>\n",
       "      <td>570301130888122368</td>\n",
       "      <td>positive</td>\n",
       "      <td>0.3486</td>\n",
       "      <td>NaN</td>\n",
       "      <td>0.0000</td>\n",
       "      <td>Virgin America</td>\n",
       "      <td>NaN</td>\n",
       "      <td>jnardino</td>\n",
       "      <td>NaN</td>\n",
       "      <td>0</td>\n",
       "      <td>@VirginAmerica plus you've added commercials t...</td>\n",
       "      <td>NaN</td>\n",
       "      <td>2015-02-24 11:15:59 -0800</td>\n",
       "      <td>NaN</td>\n",
       "      <td>Pacific Time (US &amp; Canada)</td>\n",
       "    </tr>\n",
       "    <tr>\n",
       "      <th>2</th>\n",
       "      <td>570301083672813571</td>\n",
       "      <td>neutral</td>\n",
       "      <td>0.6837</td>\n",
       "      <td>NaN</td>\n",
       "      <td>NaN</td>\n",
       "      <td>Virgin America</td>\n",
       "      <td>NaN</td>\n",
       "      <td>yvonnalynn</td>\n",
       "      <td>NaN</td>\n",
       "      <td>0</td>\n",
       "      <td>@VirginAmerica I didn't today... Must mean I n...</td>\n",
       "      <td>NaN</td>\n",
       "      <td>2015-02-24 11:15:48 -0800</td>\n",
       "      <td>Lets Play</td>\n",
       "      <td>Central Time (US &amp; Canada)</td>\n",
       "    </tr>\n",
       "    <tr>\n",
       "      <th>3</th>\n",
       "      <td>570301031407624196</td>\n",
       "      <td>negative</td>\n",
       "      <td>1.0000</td>\n",
       "      <td>Bad Flight</td>\n",
       "      <td>0.7033</td>\n",
       "      <td>Virgin America</td>\n",
       "      <td>NaN</td>\n",
       "      <td>jnardino</td>\n",
       "      <td>NaN</td>\n",
       "      <td>0</td>\n",
       "      <td>@VirginAmerica it's really aggressive to blast...</td>\n",
       "      <td>NaN</td>\n",
       "      <td>2015-02-24 11:15:36 -0800</td>\n",
       "      <td>NaN</td>\n",
       "      <td>Pacific Time (US &amp; Canada)</td>\n",
       "    </tr>\n",
       "    <tr>\n",
       "      <th>4</th>\n",
       "      <td>570300817074462722</td>\n",
       "      <td>negative</td>\n",
       "      <td>1.0000</td>\n",
       "      <td>Can't Tell</td>\n",
       "      <td>1.0000</td>\n",
       "      <td>Virgin America</td>\n",
       "      <td>NaN</td>\n",
       "      <td>jnardino</td>\n",
       "      <td>NaN</td>\n",
       "      <td>0</td>\n",
       "      <td>@VirginAmerica and it's a really big bad thing...</td>\n",
       "      <td>NaN</td>\n",
       "      <td>2015-02-24 11:14:45 -0800</td>\n",
       "      <td>NaN</td>\n",
       "      <td>Pacific Time (US &amp; Canada)</td>\n",
       "    </tr>\n",
       "  </tbody>\n",
       "</table>\n",
       "</div>"
      ],
      "text/plain": [
       "             tweet_id airline_sentiment  airline_sentiment_confidence  \\\n",
       "0  570306133677760513           neutral                        1.0000   \n",
       "1  570301130888122368          positive                        0.3486   \n",
       "2  570301083672813571           neutral                        0.6837   \n",
       "3  570301031407624196          negative                        1.0000   \n",
       "4  570300817074462722          negative                        1.0000   \n",
       "\n",
       "  negativereason  negativereason_confidence         airline  \\\n",
       "0            NaN                        NaN  Virgin America   \n",
       "1            NaN                     0.0000  Virgin America   \n",
       "2            NaN                        NaN  Virgin America   \n",
       "3     Bad Flight                     0.7033  Virgin America   \n",
       "4     Can't Tell                     1.0000  Virgin America   \n",
       "\n",
       "  airline_sentiment_gold        name negativereason_gold  retweet_count  \\\n",
       "0                    NaN     cairdin                 NaN              0   \n",
       "1                    NaN    jnardino                 NaN              0   \n",
       "2                    NaN  yvonnalynn                 NaN              0   \n",
       "3                    NaN    jnardino                 NaN              0   \n",
       "4                    NaN    jnardino                 NaN              0   \n",
       "\n",
       "                                                text tweet_coord  \\\n",
       "0                @VirginAmerica What @dhepburn said.         NaN   \n",
       "1  @VirginAmerica plus you've added commercials t...         NaN   \n",
       "2  @VirginAmerica I didn't today... Must mean I n...         NaN   \n",
       "3  @VirginAmerica it's really aggressive to blast...         NaN   \n",
       "4  @VirginAmerica and it's a really big bad thing...         NaN   \n",
       "\n",
       "               tweet_created tweet_location               user_timezone  \n",
       "0  2015-02-24 11:35:52 -0800            NaN  Eastern Time (US & Canada)  \n",
       "1  2015-02-24 11:15:59 -0800            NaN  Pacific Time (US & Canada)  \n",
       "2  2015-02-24 11:15:48 -0800      Lets Play  Central Time (US & Canada)  \n",
       "3  2015-02-24 11:15:36 -0800            NaN  Pacific Time (US & Canada)  \n",
       "4  2015-02-24 11:14:45 -0800            NaN  Pacific Time (US & Canada)  "
      ]
     },
     "execution_count": 3,
     "metadata": {},
     "output_type": "execute_result"
    }
   ],
   "source": [
    "data.head()"
   ]
  },
  {
   "cell_type": "code",
   "execution_count": 4,
   "metadata": {},
   "outputs": [
    {
     "data": {
      "text/plain": [
       "negative    9178\n",
       "neutral     3099\n",
       "positive    2363\n",
       "Name: airline_sentiment, dtype: int64"
      ]
     },
     "execution_count": 4,
     "metadata": {},
     "output_type": "execute_result"
    }
   ],
   "source": [
    "# 评价的数量统计\n",
    "data.airline_sentiment.value_counts()"
   ]
  },
  {
   "cell_type": "code",
   "execution_count": 5,
   "metadata": {},
   "outputs": [
    {
     "data": {
      "text/plain": [
       "neutral     2300\n",
       "negative    2300\n",
       "positive    2300\n",
       "Name: airline_sentiment, dtype: int64"
      ]
     },
     "execution_count": 5,
     "metadata": {},
     "output_type": "execute_result"
    }
   ],
   "source": [
    "# 三类评价各取2300条\n",
    "train_num = 2300\n",
    "data_pos = data[data.airline_sentiment == 'positive'].iloc[:train_num]\n",
    "data_neg = data[data.airline_sentiment == 'negative'].iloc[:train_num]\n",
    "data_neu = data[data.airline_sentiment == 'neutral'].iloc[:train_num]\n",
    "# 连接data\n",
    "data = pd.concat([data_pos, data_neg, data_neu])\n",
    "data.airline_sentiment.value_counts()"
   ]
  },
  {
   "cell_type": "markdown",
   "metadata": {},
   "source": [
    "### 处理label"
   ]
  },
  {
   "cell_type": "code",
   "execution_count": 6,
   "metadata": {},
   "outputs": [
    {
     "data": {
      "text/plain": [
       "{'negative': 0, 'neutral': 1, 'positive': 2}"
      ]
     },
     "execution_count": 6,
     "metadata": {},
     "output_type": "execute_result"
    }
   ],
   "source": [
    "# 创建label_to_index字典\n",
    "label_to_index = dict((label, index) for index, label in enumerate(set(data['airline_sentiment'])))\n",
    "label_to_index"
   ]
  },
  {
   "cell_type": "code",
   "execution_count": 7,
   "metadata": {},
   "outputs": [
    {
     "data": {
      "text/html": [
       "<div>\n",
       "<style scoped>\n",
       "    .dataframe tbody tr th:only-of-type {\n",
       "        vertical-align: middle;\n",
       "    }\n",
       "\n",
       "    .dataframe tbody tr th {\n",
       "        vertical-align: top;\n",
       "    }\n",
       "\n",
       "    .dataframe thead th {\n",
       "        text-align: right;\n",
       "    }\n",
       "</style>\n",
       "<table border=\"1\" class=\"dataframe\">\n",
       "  <thead>\n",
       "    <tr style=\"text-align: right;\">\n",
       "      <th></th>\n",
       "      <th>tweet_id</th>\n",
       "      <th>airline_sentiment</th>\n",
       "      <th>airline_sentiment_confidence</th>\n",
       "      <th>negativereason</th>\n",
       "      <th>negativereason_confidence</th>\n",
       "      <th>airline</th>\n",
       "      <th>airline_sentiment_gold</th>\n",
       "      <th>name</th>\n",
       "      <th>negativereason_gold</th>\n",
       "      <th>retweet_count</th>\n",
       "      <th>text</th>\n",
       "      <th>tweet_coord</th>\n",
       "      <th>tweet_created</th>\n",
       "      <th>tweet_location</th>\n",
       "      <th>user_timezone</th>\n",
       "    </tr>\n",
       "  </thead>\n",
       "  <tbody>\n",
       "    <tr>\n",
       "      <th>7070</th>\n",
       "      <td>569940702425169920</td>\n",
       "      <td>1</td>\n",
       "      <td>0.6617</td>\n",
       "      <td>NaN</td>\n",
       "      <td>0.0000</td>\n",
       "      <td>Delta</td>\n",
       "      <td>NaN</td>\n",
       "      <td>ohhnamrata</td>\n",
       "      <td>NaN</td>\n",
       "      <td>0</td>\n",
       "      <td>No. RT @JetBlue Our fleet's on fleek.</td>\n",
       "      <td>NaN</td>\n",
       "      <td>2015-02-23 11:23:47 -0800</td>\n",
       "      <td>NYC</td>\n",
       "      <td>Eastern Time (US &amp; Canada)</td>\n",
       "    </tr>\n",
       "    <tr>\n",
       "      <th>7432</th>\n",
       "      <td>569614500044918784</td>\n",
       "      <td>2</td>\n",
       "      <td>0.6472</td>\n",
       "      <td>NaN</td>\n",
       "      <td>NaN</td>\n",
       "      <td>Delta</td>\n",
       "      <td>NaN</td>\n",
       "      <td>ChrisDonahoe</td>\n",
       "      <td>NaN</td>\n",
       "      <td>0</td>\n",
       "      <td>@JetBlue btw, Robin Hayes is speaking at next ...</td>\n",
       "      <td>NaN</td>\n",
       "      <td>2015-02-22 13:47:34 -0800</td>\n",
       "      <td>Washington, D.C.</td>\n",
       "      <td>Quito</td>\n",
       "    </tr>\n",
       "    <tr>\n",
       "      <th>5755</th>\n",
       "      <td>568664266502479872</td>\n",
       "      <td>2</td>\n",
       "      <td>1.0000</td>\n",
       "      <td>NaN</td>\n",
       "      <td>NaN</td>\n",
       "      <td>Southwest</td>\n",
       "      <td>NaN</td>\n",
       "      <td>JaylynCoffin</td>\n",
       "      <td>NaN</td>\n",
       "      <td>0</td>\n",
       "      <td>@SouthwestAir was fantastic! That's the best f...</td>\n",
       "      <td>NaN</td>\n",
       "      <td>2015-02-19 22:51:41 -0800</td>\n",
       "      <td>Orlando Florida. (Winter Park)</td>\n",
       "      <td>NaN</td>\n",
       "    </tr>\n",
       "    <tr>\n",
       "      <th>1552</th>\n",
       "      <td>569666686086819840</td>\n",
       "      <td>0</td>\n",
       "      <td>1.0000</td>\n",
       "      <td>Can't Tell</td>\n",
       "      <td>0.6594</td>\n",
       "      <td>United</td>\n",
       "      <td>NaN</td>\n",
       "      <td>mckakia</td>\n",
       "      <td>NaN</td>\n",
       "      <td>0</td>\n",
       "      <td>@united:  thanks for the miserable trip GNV&amp;lt...</td>\n",
       "      <td>NaN</td>\n",
       "      <td>2015-02-22 17:14:56 -0800</td>\n",
       "      <td>NaN</td>\n",
       "      <td>NaN</td>\n",
       "    </tr>\n",
       "    <tr>\n",
       "      <th>5829</th>\n",
       "      <td>568567255291703298</td>\n",
       "      <td>2</td>\n",
       "      <td>0.6819</td>\n",
       "      <td>NaN</td>\n",
       "      <td>NaN</td>\n",
       "      <td>Southwest</td>\n",
       "      <td>NaN</td>\n",
       "      <td>itsjessme_</td>\n",
       "      <td>NaN</td>\n",
       "      <td>0</td>\n",
       "      <td>@SouthwestAir Sorry to spam, it would just be ...</td>\n",
       "      <td>NaN</td>\n",
       "      <td>2015-02-19 16:26:11 -0800</td>\n",
       "      <td>NaN</td>\n",
       "      <td>Alaska</td>\n",
       "    </tr>\n",
       "  </tbody>\n",
       "</table>\n",
       "</div>"
      ],
      "text/plain": [
       "                tweet_id  airline_sentiment  airline_sentiment_confidence  \\\n",
       "7070  569940702425169920                  1                        0.6617   \n",
       "7432  569614500044918784                  2                        0.6472   \n",
       "5755  568664266502479872                  2                        1.0000   \n",
       "1552  569666686086819840                  0                        1.0000   \n",
       "5829  568567255291703298                  2                        0.6819   \n",
       "\n",
       "     negativereason  negativereason_confidence    airline  \\\n",
       "7070            NaN                     0.0000      Delta   \n",
       "7432            NaN                        NaN      Delta   \n",
       "5755            NaN                        NaN  Southwest   \n",
       "1552     Can't Tell                     0.6594     United   \n",
       "5829            NaN                        NaN  Southwest   \n",
       "\n",
       "     airline_sentiment_gold          name negativereason_gold  retweet_count  \\\n",
       "7070                    NaN    ohhnamrata                 NaN              0   \n",
       "7432                    NaN  ChrisDonahoe                 NaN              0   \n",
       "5755                    NaN  JaylynCoffin                 NaN              0   \n",
       "1552                    NaN       mckakia                 NaN              0   \n",
       "5829                    NaN    itsjessme_                 NaN              0   \n",
       "\n",
       "                                                   text tweet_coord  \\\n",
       "7070              No. RT @JetBlue Our fleet's on fleek.         NaN   \n",
       "7432  @JetBlue btw, Robin Hayes is speaking at next ...         NaN   \n",
       "5755  @SouthwestAir was fantastic! That's the best f...         NaN   \n",
       "1552  @united:  thanks for the miserable trip GNV&lt...         NaN   \n",
       "5829  @SouthwestAir Sorry to spam, it would just be ...         NaN   \n",
       "\n",
       "                  tweet_created                  tweet_location  \\\n",
       "7070  2015-02-23 11:23:47 -0800                             NYC   \n",
       "7432  2015-02-22 13:47:34 -0800                Washington, D.C.   \n",
       "5755  2015-02-19 22:51:41 -0800  Orlando Florida. (Winter Park)   \n",
       "1552  2015-02-22 17:14:56 -0800                             NaN   \n",
       "5829  2015-02-19 16:26:11 -0800                             NaN   \n",
       "\n",
       "                   user_timezone  \n",
       "7070  Eastern Time (US & Canada)  \n",
       "7432                       Quito  \n",
       "5755                         NaN  \n",
       "1552                         NaN  \n",
       "5829                      Alaska  "
      ]
     },
     "execution_count": 7,
     "metadata": {},
     "output_type": "execute_result"
    }
   ],
   "source": [
    "# 通过随机采样打乱数据\n",
    "data = data.sample(len(data))\n",
    "# 将label转为对应index\n",
    "data['airline_sentiment'] = data.airline_sentiment.apply(lambda x: label_to_index[x])\n",
    "data.head()"
   ]
  },
  {
   "cell_type": "code",
   "execution_count": 8,
   "metadata": {},
   "outputs": [
    {
     "data": {
      "text/plain": [
       "array([1, 2, 2, ..., 2, 2, 2], dtype=int64)"
      ]
     },
     "execution_count": 8,
     "metadata": {},
     "output_type": "execute_result"
    }
   ],
   "source": [
    "# 从data中取出label\n",
    "data_label = data.airline_sentiment.values\n",
    "data_label"
   ]
  },
  {
   "cell_type": "markdown",
   "metadata": {},
   "source": [
    "### 处理text"
   ]
  },
  {
   "cell_type": "markdown",
   "metadata": {},
   "source": [
    "#### 将文本分离成单词"
   ]
  },
  {
   "cell_type": "code",
   "execution_count": 9,
   "metadata": {},
   "outputs": [],
   "source": [
    "import re"
   ]
  },
  {
   "cell_type": "code",
   "execution_count": 10,
   "metadata": {},
   "outputs": [],
   "source": [
    "# 用正则表达式提取单词和常见符号\n",
    "# [ ] ：字符集，对单个字符给出取值范围\n",
    "# + ：前一个字符1次或无限次扩展\n",
    "# | ：左右表达式任意一个\n",
    "token = re.compile('[A-Za-z]+|[!?,.()]')"
   ]
  },
  {
   "cell_type": "code",
   "execution_count": 11,
   "metadata": {},
   "outputs": [
    {
     "data": {
      "text/html": [
       "<div>\n",
       "<style scoped>\n",
       "    .dataframe tbody tr th:only-of-type {\n",
       "        vertical-align: middle;\n",
       "    }\n",
       "\n",
       "    .dataframe tbody tr th {\n",
       "        vertical-align: top;\n",
       "    }\n",
       "\n",
       "    .dataframe thead th {\n",
       "        text-align: right;\n",
       "    }\n",
       "</style>\n",
       "<table border=\"1\" class=\"dataframe\">\n",
       "  <thead>\n",
       "    <tr style=\"text-align: right;\">\n",
       "      <th></th>\n",
       "      <th>tweet_id</th>\n",
       "      <th>airline_sentiment</th>\n",
       "      <th>airline_sentiment_confidence</th>\n",
       "      <th>negativereason</th>\n",
       "      <th>negativereason_confidence</th>\n",
       "      <th>airline</th>\n",
       "      <th>airline_sentiment_gold</th>\n",
       "      <th>name</th>\n",
       "      <th>negativereason_gold</th>\n",
       "      <th>retweet_count</th>\n",
       "      <th>text</th>\n",
       "      <th>tweet_coord</th>\n",
       "      <th>tweet_created</th>\n",
       "      <th>tweet_location</th>\n",
       "      <th>user_timezone</th>\n",
       "    </tr>\n",
       "  </thead>\n",
       "  <tbody>\n",
       "    <tr>\n",
       "      <th>7070</th>\n",
       "      <td>569940702425169920</td>\n",
       "      <td>1</td>\n",
       "      <td>0.6617</td>\n",
       "      <td>NaN</td>\n",
       "      <td>0.0000</td>\n",
       "      <td>Delta</td>\n",
       "      <td>NaN</td>\n",
       "      <td>ohhnamrata</td>\n",
       "      <td>NaN</td>\n",
       "      <td>0</td>\n",
       "      <td>[no, ., rt, jetblue, our, fleet, s, on, fleek, .]</td>\n",
       "      <td>NaN</td>\n",
       "      <td>2015-02-23 11:23:47 -0800</td>\n",
       "      <td>NYC</td>\n",
       "      <td>Eastern Time (US &amp; Canada)</td>\n",
       "    </tr>\n",
       "    <tr>\n",
       "      <th>7432</th>\n",
       "      <td>569614500044918784</td>\n",
       "      <td>2</td>\n",
       "      <td>0.6472</td>\n",
       "      <td>NaN</td>\n",
       "      <td>NaN</td>\n",
       "      <td>Delta</td>\n",
       "      <td>NaN</td>\n",
       "      <td>ChrisDonahoe</td>\n",
       "      <td>NaN</td>\n",
       "      <td>0</td>\n",
       "      <td>[jetblue, btw, ,, robin, hayes, is, speaking, ...</td>\n",
       "      <td>NaN</td>\n",
       "      <td>2015-02-22 13:47:34 -0800</td>\n",
       "      <td>Washington, D.C.</td>\n",
       "      <td>Quito</td>\n",
       "    </tr>\n",
       "    <tr>\n",
       "      <th>5755</th>\n",
       "      <td>568664266502479872</td>\n",
       "      <td>2</td>\n",
       "      <td>1.0000</td>\n",
       "      <td>NaN</td>\n",
       "      <td>NaN</td>\n",
       "      <td>Southwest</td>\n",
       "      <td>NaN</td>\n",
       "      <td>JaylynCoffin</td>\n",
       "      <td>NaN</td>\n",
       "      <td>0</td>\n",
       "      <td>[southwestair, was, fantastic, !, that, s, the...</td>\n",
       "      <td>NaN</td>\n",
       "      <td>2015-02-19 22:51:41 -0800</td>\n",
       "      <td>Orlando Florida. (Winter Park)</td>\n",
       "      <td>NaN</td>\n",
       "    </tr>\n",
       "    <tr>\n",
       "      <th>1552</th>\n",
       "      <td>569666686086819840</td>\n",
       "      <td>0</td>\n",
       "      <td>1.0000</td>\n",
       "      <td>Can't Tell</td>\n",
       "      <td>0.6594</td>\n",
       "      <td>United</td>\n",
       "      <td>NaN</td>\n",
       "      <td>mckakia</td>\n",
       "      <td>NaN</td>\n",
       "      <td>0</td>\n",
       "      <td>[united, thanks, for, the, miserable, trip, gn...</td>\n",
       "      <td>NaN</td>\n",
       "      <td>2015-02-22 17:14:56 -0800</td>\n",
       "      <td>NaN</td>\n",
       "      <td>NaN</td>\n",
       "    </tr>\n",
       "    <tr>\n",
       "      <th>5829</th>\n",
       "      <td>568567255291703298</td>\n",
       "      <td>2</td>\n",
       "      <td>0.6819</td>\n",
       "      <td>NaN</td>\n",
       "      <td>NaN</td>\n",
       "      <td>Southwest</td>\n",
       "      <td>NaN</td>\n",
       "      <td>itsjessme_</td>\n",
       "      <td>NaN</td>\n",
       "      <td>0</td>\n",
       "      <td>[southwestair, sorry, to, spam, ,, it, would, ...</td>\n",
       "      <td>NaN</td>\n",
       "      <td>2015-02-19 16:26:11 -0800</td>\n",
       "      <td>NaN</td>\n",
       "      <td>Alaska</td>\n",
       "    </tr>\n",
       "  </tbody>\n",
       "</table>\n",
       "</div>"
      ],
      "text/plain": [
       "                tweet_id  airline_sentiment  airline_sentiment_confidence  \\\n",
       "7070  569940702425169920                  1                        0.6617   \n",
       "7432  569614500044918784                  2                        0.6472   \n",
       "5755  568664266502479872                  2                        1.0000   \n",
       "1552  569666686086819840                  0                        1.0000   \n",
       "5829  568567255291703298                  2                        0.6819   \n",
       "\n",
       "     negativereason  negativereason_confidence    airline  \\\n",
       "7070            NaN                     0.0000      Delta   \n",
       "7432            NaN                        NaN      Delta   \n",
       "5755            NaN                        NaN  Southwest   \n",
       "1552     Can't Tell                     0.6594     United   \n",
       "5829            NaN                        NaN  Southwest   \n",
       "\n",
       "     airline_sentiment_gold          name negativereason_gold  retweet_count  \\\n",
       "7070                    NaN    ohhnamrata                 NaN              0   \n",
       "7432                    NaN  ChrisDonahoe                 NaN              0   \n",
       "5755                    NaN  JaylynCoffin                 NaN              0   \n",
       "1552                    NaN       mckakia                 NaN              0   \n",
       "5829                    NaN    itsjessme_                 NaN              0   \n",
       "\n",
       "                                                   text tweet_coord  \\\n",
       "7070  [no, ., rt, jetblue, our, fleet, s, on, fleek, .]         NaN   \n",
       "7432  [jetblue, btw, ,, robin, hayes, is, speaking, ...         NaN   \n",
       "5755  [southwestair, was, fantastic, !, that, s, the...         NaN   \n",
       "1552  [united, thanks, for, the, miserable, trip, gn...         NaN   \n",
       "5829  [southwestair, sorry, to, spam, ,, it, would, ...         NaN   \n",
       "\n",
       "                  tweet_created                  tweet_location  \\\n",
       "7070  2015-02-23 11:23:47 -0800                             NYC   \n",
       "7432  2015-02-22 13:47:34 -0800                Washington, D.C.   \n",
       "5755  2015-02-19 22:51:41 -0800  Orlando Florida. (Winter Park)   \n",
       "1552  2015-02-22 17:14:56 -0800                             NaN   \n",
       "5829  2015-02-19 16:26:11 -0800                             NaN   \n",
       "\n",
       "                   user_timezone  \n",
       "7070  Eastern Time (US & Canada)  \n",
       "7432                       Quito  \n",
       "5755                         NaN  \n",
       "1552                         NaN  \n",
       "5829                      Alaska  "
      ]
     },
     "execution_count": 11,
     "metadata": {},
     "output_type": "execute_result"
    }
   ],
   "source": [
    "def reg_text(text):\n",
    "    # 搜索字符串，以列表类型返回全部能匹配的子串\n",
    "    new_text = token.findall(text)\n",
    "    # 将单词转为小写\n",
    "    new_text = [word.lower() for word in new_text]\n",
    "    return new_text\n",
    "\n",
    "data['text'] = data.text.apply(reg_text)\n",
    "data.head()"
   ]
  },
  {
   "cell_type": "markdown",
   "metadata": {},
   "source": [
    "#### 将单词编码成序号，序号从1开始，0作为填充"
   ]
  },
  {
   "cell_type": "code",
   "execution_count": 12,
   "metadata": {},
   "outputs": [],
   "source": [
    "# 建立单词集合\n",
    "word_set = set()\n",
    "for text in data['text']:\n",
    "    for word in text:\n",
    "        word_set.add(word)\n",
    "# 单词数为word_set的长度加1\n",
    "num_word = len(word_set) + 1"
   ]
  },
  {
   "cell_type": "code",
   "execution_count": 13,
   "metadata": {},
   "outputs": [
    {
     "data": {
      "text/plain": [
       "[('flew', 1),\n",
       " ('sarcastically', 2),\n",
       " ('buybacks', 3),\n",
       " ('expeditious', 4),\n",
       " ('gerri', 5)]"
      ]
     },
     "execution_count": 13,
     "metadata": {},
     "output_type": "execute_result"
    }
   ],
   "source": [
    "word_to_index = dict((word, index+1) for index, word in enumerate(word_set))\n",
    "list(word_to_index.items())[:5]"
   ]
  },
  {
   "cell_type": "code",
   "execution_count": 14,
   "metadata": {},
   "outputs": [
    {
     "data": {
      "text/html": [
       "<div>\n",
       "<style scoped>\n",
       "    .dataframe tbody tr th:only-of-type {\n",
       "        vertical-align: middle;\n",
       "    }\n",
       "\n",
       "    .dataframe tbody tr th {\n",
       "        vertical-align: top;\n",
       "    }\n",
       "\n",
       "    .dataframe thead th {\n",
       "        text-align: right;\n",
       "    }\n",
       "</style>\n",
       "<table border=\"1\" class=\"dataframe\">\n",
       "  <thead>\n",
       "    <tr style=\"text-align: right;\">\n",
       "      <th></th>\n",
       "      <th>tweet_id</th>\n",
       "      <th>airline_sentiment</th>\n",
       "      <th>airline_sentiment_confidence</th>\n",
       "      <th>negativereason</th>\n",
       "      <th>negativereason_confidence</th>\n",
       "      <th>airline</th>\n",
       "      <th>airline_sentiment_gold</th>\n",
       "      <th>name</th>\n",
       "      <th>negativereason_gold</th>\n",
       "      <th>retweet_count</th>\n",
       "      <th>text</th>\n",
       "      <th>tweet_coord</th>\n",
       "      <th>tweet_created</th>\n",
       "      <th>tweet_location</th>\n",
       "      <th>user_timezone</th>\n",
       "    </tr>\n",
       "  </thead>\n",
       "  <tbody>\n",
       "    <tr>\n",
       "      <th>7070</th>\n",
       "      <td>569940702425169920</td>\n",
       "      <td>1</td>\n",
       "      <td>0.6617</td>\n",
       "      <td>NaN</td>\n",
       "      <td>0.0000</td>\n",
       "      <td>Delta</td>\n",
       "      <td>NaN</td>\n",
       "      <td>ohhnamrata</td>\n",
       "      <td>NaN</td>\n",
       "      <td>0</td>\n",
       "      <td>[2998, 426, 7769, 8281, 1197, 5458, 4257, 4596...</td>\n",
       "      <td>NaN</td>\n",
       "      <td>2015-02-23 11:23:47 -0800</td>\n",
       "      <td>NYC</td>\n",
       "      <td>Eastern Time (US &amp; Canada)</td>\n",
       "    </tr>\n",
       "    <tr>\n",
       "      <th>7432</th>\n",
       "      <td>569614500044918784</td>\n",
       "      <td>2</td>\n",
       "      <td>0.6472</td>\n",
       "      <td>NaN</td>\n",
       "      <td>NaN</td>\n",
       "      <td>Delta</td>\n",
       "      <td>NaN</td>\n",
       "      <td>ChrisDonahoe</td>\n",
       "      <td>NaN</td>\n",
       "      <td>0</td>\n",
       "      <td>[8281, 1079, 4294, 860, 8512, 8623, 6943, 8686...</td>\n",
       "      <td>NaN</td>\n",
       "      <td>2015-02-22 13:47:34 -0800</td>\n",
       "      <td>Washington, D.C.</td>\n",
       "      <td>Quito</td>\n",
       "    </tr>\n",
       "    <tr>\n",
       "      <th>5755</th>\n",
       "      <td>568664266502479872</td>\n",
       "      <td>2</td>\n",
       "      <td>1.0000</td>\n",
       "      <td>NaN</td>\n",
       "      <td>NaN</td>\n",
       "      <td>Southwest</td>\n",
       "      <td>NaN</td>\n",
       "      <td>JaylynCoffin</td>\n",
       "      <td>NaN</td>\n",
       "      <td>0</td>\n",
       "      <td>[3232, 2691, 7449, 8263, 7333, 4257, 6707, 600...</td>\n",
       "      <td>NaN</td>\n",
       "      <td>2015-02-19 22:51:41 -0800</td>\n",
       "      <td>Orlando Florida. (Winter Park)</td>\n",
       "      <td>NaN</td>\n",
       "    </tr>\n",
       "    <tr>\n",
       "      <th>1552</th>\n",
       "      <td>569666686086819840</td>\n",
       "      <td>0</td>\n",
       "      <td>1.0000</td>\n",
       "      <td>Can't Tell</td>\n",
       "      <td>0.6594</td>\n",
       "      <td>United</td>\n",
       "      <td>NaN</td>\n",
       "      <td>mckakia</td>\n",
       "      <td>NaN</td>\n",
       "      <td>0</td>\n",
       "      <td>[4585, 6715, 8635, 6707, 2744, 5731, 6987, 850...</td>\n",
       "      <td>NaN</td>\n",
       "      <td>2015-02-22 17:14:56 -0800</td>\n",
       "      <td>NaN</td>\n",
       "      <td>NaN</td>\n",
       "    </tr>\n",
       "    <tr>\n",
       "      <th>5829</th>\n",
       "      <td>568567255291703298</td>\n",
       "      <td>2</td>\n",
       "      <td>0.6819</td>\n",
       "      <td>NaN</td>\n",
       "      <td>NaN</td>\n",
       "      <td>Southwest</td>\n",
       "      <td>NaN</td>\n",
       "      <td>itsjessme_</td>\n",
       "      <td>NaN</td>\n",
       "      <td>0</td>\n",
       "      <td>[3232, 7513, 4781, 4326, 4294, 5945, 8201, 213...</td>\n",
       "      <td>NaN</td>\n",
       "      <td>2015-02-19 16:26:11 -0800</td>\n",
       "      <td>NaN</td>\n",
       "      <td>Alaska</td>\n",
       "    </tr>\n",
       "  </tbody>\n",
       "</table>\n",
       "</div>"
      ],
      "text/plain": [
       "                tweet_id  airline_sentiment  airline_sentiment_confidence  \\\n",
       "7070  569940702425169920                  1                        0.6617   \n",
       "7432  569614500044918784                  2                        0.6472   \n",
       "5755  568664266502479872                  2                        1.0000   \n",
       "1552  569666686086819840                  0                        1.0000   \n",
       "5829  568567255291703298                  2                        0.6819   \n",
       "\n",
       "     negativereason  negativereason_confidence    airline  \\\n",
       "7070            NaN                     0.0000      Delta   \n",
       "7432            NaN                        NaN      Delta   \n",
       "5755            NaN                        NaN  Southwest   \n",
       "1552     Can't Tell                     0.6594     United   \n",
       "5829            NaN                        NaN  Southwest   \n",
       "\n",
       "     airline_sentiment_gold          name negativereason_gold  retweet_count  \\\n",
       "7070                    NaN    ohhnamrata                 NaN              0   \n",
       "7432                    NaN  ChrisDonahoe                 NaN              0   \n",
       "5755                    NaN  JaylynCoffin                 NaN              0   \n",
       "1552                    NaN       mckakia                 NaN              0   \n",
       "5829                    NaN    itsjessme_                 NaN              0   \n",
       "\n",
       "                                                   text tweet_coord  \\\n",
       "7070  [2998, 426, 7769, 8281, 1197, 5458, 4257, 4596...         NaN   \n",
       "7432  [8281, 1079, 4294, 860, 8512, 8623, 6943, 8686...         NaN   \n",
       "5755  [3232, 2691, 7449, 8263, 7333, 4257, 6707, 600...         NaN   \n",
       "1552  [4585, 6715, 8635, 6707, 2744, 5731, 6987, 850...         NaN   \n",
       "5829  [3232, 7513, 4781, 4326, 4294, 5945, 8201, 213...         NaN   \n",
       "\n",
       "                  tweet_created                  tweet_location  \\\n",
       "7070  2015-02-23 11:23:47 -0800                             NYC   \n",
       "7432  2015-02-22 13:47:34 -0800                Washington, D.C.   \n",
       "5755  2015-02-19 22:51:41 -0800  Orlando Florida. (Winter Park)   \n",
       "1552  2015-02-22 17:14:56 -0800                             NaN   \n",
       "5829  2015-02-19 16:26:11 -0800                             NaN   \n",
       "\n",
       "                   user_timezone  \n",
       "7070  Eastern Time (US & Canada)  \n",
       "7432                       Quito  \n",
       "5755                         NaN  \n",
       "1552                         NaN  \n",
       "5829                      Alaska  "
      ]
     },
     "execution_count": 14,
     "metadata": {},
     "output_type": "execute_result"
    }
   ],
   "source": [
    "data['text'] = data.text.apply(lambda x: [word_to_index[word] for word in x])\n",
    "data.head()"
   ]
  },
  {
   "cell_type": "code",
   "execution_count": 15,
   "metadata": {},
   "outputs": [
    {
     "data": {
      "text/plain": [
       "array([list([2998, 426, 7769, 8281, 1197, 5458, 4257, 4596, 3673, 426]),\n",
       "       list([8281, 1079, 4294, 860, 8512, 8623, 6943, 8686, 476, 6546, 4257, 1809, 788, 2156, 426, 1896, 7391, 4781, 3196, 193, 1370, 2238, 4781, 4337, 1793, 4216, 426, 7065, 2129]),\n",
       "       list([3232, 2691, 7449, 8263, 7333, 4257, 6707, 600, 6154, 6306, 2570, 8630, 5210, 5133, 426]),\n",
       "       ...,\n",
       "       list([1417, 932, 6705, 4491, 8686, 6707, 6439, 4801, 1542, 4006, 499, 2365, 5261, 7109, 9149, 1498, 5841, 1197, 6154, 8263]),\n",
       "       list([7056, 6715, 4781, 6707, 3362, 4216, 8635, 5886, 4596, 1127, 6154, 2005, 1316, 48, 881, 8225, 426, 6718, 6156]),\n",
       "       list([8281, 3623, 3134, 6990, 8686, 5799, 426, 739, 6285, 193, 451, 5160, 426, 2677, 4846, 2234, 5069, 7892])],\n",
       "      dtype=object)"
      ]
     },
     "execution_count": 15,
     "metadata": {},
     "output_type": "execute_result"
    }
   ],
   "source": [
    "# 从data中取出text\n",
    "data_text = data.text.values\n",
    "data_text"
   ]
  },
  {
   "cell_type": "code",
   "execution_count": 16,
   "metadata": {},
   "outputs": [
    {
     "data": {
      "text/plain": [
       "array([[   0,    0,    0, ..., 4596, 3673,  426],\n",
       "       [   0,    0,    0, ...,  426, 7065, 2129],\n",
       "       [   0,    0,    0, ..., 5210, 5133,  426],\n",
       "       ...,\n",
       "       [   0,    0,    0, ..., 1197, 6154, 8263],\n",
       "       [   0,    0,    0, ...,  426, 6718, 6156],\n",
       "       [   0,    0,    0, ..., 2234, 5069, 7892]])"
      ]
     },
     "execution_count": 16,
     "metadata": {},
     "output_type": "execute_result"
    }
   ],
   "source": [
    "# 找出最长文本长度\n",
    "max_len = max(len(txt) for txt in data_text)\n",
    "data_text = tf.keras.preprocessing.sequence.pad_sequences(data_text, max_len)\n",
    "data_text"
   ]
  },
  {
   "cell_type": "markdown",
   "metadata": {},
   "source": [
    "### 创建模型训练"
   ]
  },
  {
   "cell_type": "code",
   "execution_count": 17,
   "metadata": {},
   "outputs": [
    {
     "name": "stdout",
     "output_type": "stream",
     "text": [
      "Model: \"sequential\"\n",
      "_________________________________________________________________\n",
      "Layer (type)                 Output Shape              Param #   \n",
      "=================================================================\n",
      "embedding (Embedding)        (None, 40, 50)            467050    \n",
      "_________________________________________________________________\n",
      "lstm (LSTM)                  (None, 64)                29440     \n",
      "_________________________________________________________________\n",
      "dense (Dense)                (None, 3)                 195       \n",
      "=================================================================\n",
      "Total params: 496,685\n",
      "Trainable params: 496,685\n",
      "Non-trainable params: 0\n",
      "_________________________________________________________________\n"
     ]
    }
   ],
   "source": [
    "model = tf.keras.Sequential()\n",
    "model.add(layers.Embedding(input_dim=num_word,\n",
    "                           output_dim=50,\n",
    "                           input_length=max_len))\n",
    "model.add(layers.LSTM(64))\n",
    "model.add(layers.Dense(3, activation='softmax'))\n",
    "model.summary()"
   ]
  },
  {
   "cell_type": "code",
   "execution_count": 18,
   "metadata": {},
   "outputs": [
    {
     "name": "stdout",
     "output_type": "stream",
     "text": [
      "Train on 5520 samples, validate on 1380 samples\n",
      "Epoch 1/10\n",
      "5520/5520 [==============================] - 7s 1ms/sample - loss: 1.0229 - accuracy: 0.5324 - val_loss: 0.9113 - val_accuracy: 0.5754\n",
      "Epoch 2/10\n",
      "5520/5520 [==============================] - 1s 132us/sample - loss: 0.6570 - accuracy: 0.7373 - val_loss: 0.5663 - val_accuracy: 0.7630\n",
      "Epoch 3/10\n",
      "5520/5520 [==============================] - 1s 131us/sample - loss: 0.3894 - accuracy: 0.8516 - val_loss: 0.6011 - val_accuracy: 0.7616\n",
      "Epoch 4/10\n",
      "5520/5520 [==============================] - 1s 128us/sample - loss: 0.2959 - accuracy: 0.8957 - val_loss: 0.6457 - val_accuracy: 0.7652\n",
      "Epoch 5/10\n",
      "5520/5520 [==============================] - 1s 125us/sample - loss: 0.2055 - accuracy: 0.9284 - val_loss: 0.6099 - val_accuracy: 0.7986\n",
      "Epoch 6/10\n",
      "5520/5520 [==============================] - 1s 108us/sample - loss: 0.1542 - accuracy: 0.9493 - val_loss: 0.6745 - val_accuracy: 0.7754\n",
      "Epoch 7/10\n",
      "5520/5520 [==============================] - 1s 120us/sample - loss: 0.1208 - accuracy: 0.9609 - val_loss: 0.7977 - val_accuracy: 0.7681\n",
      "Epoch 8/10\n",
      "5520/5520 [==============================] - 1s 109us/sample - loss: 0.0894 - accuracy: 0.9736 - val_loss: 0.8245 - val_accuracy: 0.7754\n",
      "Epoch 9/10\n",
      "5520/5520 [==============================] - 1s 107us/sample - loss: 0.0727 - accuracy: 0.9793 - val_loss: 0.8826 - val_accuracy: 0.7616\n",
      "Epoch 10/10\n",
      "5520/5520 [==============================] - 1s 114us/sample - loss: 0.0654 - accuracy: 0.9808 - val_loss: 0.8894 - val_accuracy: 0.7587\n"
     ]
    }
   ],
   "source": [
    "model.compile(optimizer='adam',\n",
    "              loss='sparse_categorical_crossentropy',\n",
    "              metrics=['accuracy']\n",
    ")\n",
    "train = model.fit(data_text, data_label, epochs=10, batch_size=128, validation_split=0.2)"
   ]
  },
  {
   "cell_type": "code",
   "execution_count": 19,
   "metadata": {},
   "outputs": [
    {
     "data": {
      "text/plain": [
       "<matplotlib.legend.Legend at 0x2947d544108>"
      ]
     },
     "execution_count": 19,
     "metadata": {},
     "output_type": "execute_result"
    },
    {
     "data": {
      "image/png": "[encoded data removed]",
      "text/plain": [
       "<Figure size 432x288 with 1 Axes>"
      ]
     },
     "metadata": {
      "needs_background": "light"
     },
     "output_type": "display_data"
    },
    {
     "data": {
      "image/png": "[encoded data removed]",
      "text/plain": [
       "<Figure size 432x288 with 1 Axes>"
      ]
     },
     "metadata": {
      "needs_background": "light"
     },
     "output_type": "display_data"
    }
   ],
   "source": [
    "# 训练过程可视化\n",
    "train_acc = train.history['accuracy']\n",
    "val_acc = train.history['val_accuracy']\n",
    "train_loss = train.history['loss']\n",
    "val_loss = train.history['val_loss']\n",
    "\n",
    "plt.title(\"accuray\")\n",
    "plt.plot(train.epoch, train_acc, label='train_acc')\n",
    "plt.plot(train.epoch, val_acc, label='val_acc')\n",
    "plt.legend(loc='upper left')\n",
    "\n",
    "plt.figure()\n",
    "plt.title(\"loss\")\n",
    "plt.plot(train.epoch, train_loss, label='train_loss')\n",
    "plt.plot(train.epoch, val_loss, label='val_loss')\n",
    "plt.legend(loc='upper left')"
   ]
  },
  {
   "cell_type": "markdown",
   "metadata": {},
   "source": [
    "### 使用 dropout 抑制过拟合"
   ]
  },
  {
   "cell_type": "code",
   "execution_count": 20,
   "metadata": {},
   "outputs": [
    {
     "name": "stdout",
     "output_type": "stream",
     "text": [
      "Model: \"sequential_1\"\n",
      "_________________________________________________________________\n",
      "Layer (type)                 Output Shape              Param #   \n",
      "=================================================================\n",
      "embedding_1 (Embedding)      (None, 40, 50)            467050    \n",
      "_________________________________________________________________\n",
      "lstm_1 (LSTM)                (None, 40, 32)            10624     \n",
      "_________________________________________________________________\n",
      "lstm_2 (LSTM)                (None, 64)                24832     \n",
      "_________________________________________________________________\n",
      "dropout (Dropout)            (None, 64)                0         \n",
      "_________________________________________________________________\n",
      "dense_1 (Dense)              (None, 3)                 195       \n",
      "=================================================================\n",
      "Total params: 502,701\n",
      "Trainable params: 502,701\n",
      "Non-trainable params: 0\n",
      "_________________________________________________________________\n"
     ]
    }
   ],
   "source": [
    "model = tf.keras.Sequential()\n",
    "model.add(layers.Embedding(input_dim=num_word,\n",
    "                           output_dim=50,\n",
    "                           input_length=max_len))\n",
    "# 双层LSTM加dropout\n",
    "model.add(layers.LSTM(32, dropout=0.2, return_sequences=True))\n",
    "model.add(layers.LSTM(64, dropout=0.2))\n",
    "model.add(layers.Dropout(0.5))\n",
    "model.add(layers.Dense(3, activation='softmax'))\n",
    "model.summary()"
   ]
  },
  {
   "cell_type": "code",
   "execution_count": 21,
   "metadata": {},
   "outputs": [
    {
     "name": "stdout",
     "output_type": "stream",
     "text": [
      "Train on 5520 samples, validate on 1380 samples\n",
      "Epoch 1/10\n",
      "5520/5520 [==============================] - 5s 945us/sample - loss: 0.9490 - accuracy: 0.5065 - val_loss: 0.9622 - val_accuracy: 0.5913\n",
      "Epoch 2/10\n",
      "5520/5520 [==============================] - 1s 147us/sample - loss: 0.7146 - accuracy: 0.6601 - val_loss: 0.6983 - val_accuracy: 0.6826\n",
      "Epoch 3/10\n",
      "5520/5520 [==============================] - 1s 151us/sample - loss: 0.5519 - accuracy: 0.7736 - val_loss: 0.6178 - val_accuracy: 0.7188\n",
      "Epoch 4/10\n",
      "5520/5520 [==============================] - 1s 158us/sample - loss: 0.4431 - accuracy: 0.8310 - val_loss: 0.5917 - val_accuracy: 0.7681\n",
      "Epoch 5/10\n",
      "5520/5520 [==============================] - 1s 148us/sample - loss: 0.3739 - accuracy: 0.8567 - val_loss: 0.6444 - val_accuracy: 0.7572\n",
      "Epoch 6/10\n",
      "5520/5520 [==============================] - 1s 162us/sample - loss: 0.3089 - accuracy: 0.8833 - val_loss: 0.6983 - val_accuracy: 0.7623\n",
      "Epoch 7/10\n",
      "5520/5520 [==============================] - 1s 164us/sample - loss: 0.2754 - accuracy: 0.8998 - val_loss: 0.6279 - val_accuracy: 0.7841\n",
      "Epoch 8/10\n",
      "5520/5520 [==============================] - 1s 162us/sample - loss: 0.2415 - accuracy: 0.9143 - val_loss: 0.8131 - val_accuracy: 0.7261\n",
      "Epoch 9/10\n",
      "5520/5520 [==============================] - 1s 148us/sample - loss: 0.2181 - accuracy: 0.9246 - val_loss: 0.6787 - val_accuracy: 0.7804\n",
      "Epoch 10/10\n",
      "5520/5520 [==============================] - 1s 157us/sample - loss: 0.1851 - accuracy: 0.9361 - val_loss: 0.8451 - val_accuracy: 0.7587\n"
     ]
    }
   ],
   "source": [
    "model.compile(optimizer=\"rmsprop\",\n",
    "              loss='sparse_categorical_crossentropy',\n",
    "              metrics=['accuracy']\n",
    ")\n",
    "train = model.fit(data_text, data_label, epochs=10, batch_size=128, validation_split=0.2)"
   ]
  },
  {
   "cell_type": "code",
   "execution_count": 22,
   "metadata": {
    "scrolled": true
   },
   "outputs": [
    {
     "data": {
      "text/plain": [
       "<matplotlib.legend.Legend at 0x2947cf78d48>"
      ]
     },
     "execution_count": 22,
     "metadata": {},
     "output_type": "execute_result"
    },
    {
     "data": {
      "image/png": "[encoded data removed]",
      "text/plain": [
       "<Figure size 432x288 with 1 Axes>"
      ]
     },
     "metadata": {
      "needs_background": "light"
     },
     "output_type": "display_data"
    },
    {
     "data": {
      "image/png": "[encoded data removed]",
      "text/plain": [
       "<Figure size 432x288 with 1 Axes>"
      ]
     },
     "metadata": {
      "needs_background": "light"
     },
     "output_type": "display_data"
    }
   ],
   "source": [
    "# 训练过程可视化\n",
    "train_acc = train.history['accuracy']\n",
    "val_acc = train.history['val_accuracy']\n",
    "train_loss = train.history['loss']\n",
    "val_loss = train.history['val_loss']\n",
    "\n",
    "plt.title(\"accuray\")\n",
    "plt.plot(train.epoch, train_acc, label='train_acc')\n",
    "plt.plot(train.epoch, val_acc, label='val_acc')\n",
    "plt.legend(loc='upper left')\n",
    "\n",
    "plt.figure()\n",
    "plt.title(\"loss\")\n",
    "plt.plot(train.epoch, train_loss, label='train_loss')\n",
    "plt.plot(train.epoch, val_loss, label='val_loss')\n",
    "plt.legend(loc='upper left')"
   ]
  },
  {
   "cell_type": "markdown",
   "metadata": {},
   "source": [
    "### 使用双向 RNN"
   ]
  },
  {
   "cell_type": "code",
   "execution_count": 23,
   "metadata": {},
   "outputs": [
    {
     "name": "stdout",
     "output_type": "stream",
     "text": [
      "Model: \"sequential_2\"\n",
      "_________________________________________________________________\n",
      "Layer (type)                 Output Shape              Param #   \n",
      "=================================================================\n",
      "embedding_2 (Embedding)      (None, 40, 50)            467050    \n",
      "_________________________________________________________________\n",
      "bidirectional (Bidirectional (None, 128)               58880     \n",
      "_________________________________________________________________\n",
      "dropout_1 (Dropout)          (None, 128)               0         \n",
      "_________________________________________________________________\n",
      "dense_2 (Dense)              (None, 3)                 387       \n",
      "=================================================================\n",
      "Total params: 526,317\n",
      "Trainable params: 526,317\n",
      "Non-trainable params: 0\n",
      "_________________________________________________________________\n"
     ]
    }
   ],
   "source": [
    "model = tf.keras.Sequential()\n",
    "model.add(layers.Embedding(input_dim=num_word,\n",
    "                           output_dim=50,\n",
    "                           input_length=max_len))\n",
    "model.add(layers.Bidirectional(layers.LSTM(64, dropout=0.2)))\n",
    "model.add(layers.Dropout(0.5))\n",
    "model.add(layers.Dense(3, activation='softmax'))\n",
    "model.summary()"
   ]
  },
  {
   "cell_type": "code",
   "execution_count": 24,
   "metadata": {},
   "outputs": [
    {
     "name": "stdout",
     "output_type": "stream",
     "text": [
      "Train on 5520 samples, validate on 1380 samples\n",
      "Epoch 1/10\n",
      "5520/5520 [==============================] - 6s 1ms/sample - loss: 1.0078 - accuracy: 0.4889 - val_loss: 0.9908 - val_accuracy: 0.4891\n",
      "Epoch 2/10\n",
      "5520/5520 [==============================] - 1s 203us/sample - loss: 0.7167 - accuracy: 0.6770 - val_loss: 0.7471 - val_accuracy: 0.6362\n",
      "Epoch 3/10\n",
      "5520/5520 [==============================] - 1s 185us/sample - loss: 0.5473 - accuracy: 0.7768 - val_loss: 0.5901 - val_accuracy: 0.7659\n",
      "Epoch 4/10\n",
      "5520/5520 [==============================] - 1s 153us/sample - loss: 0.4422 - accuracy: 0.8313 - val_loss: 0.6720 - val_accuracy: 0.7297\n",
      "Epoch 5/10\n",
      "5120/5520 [==========================>...] - ETA: 0s - loss: 0.3632 - accuracy: 0.8617\n",
      "Epoch 00005: ReduceLROnPlateau reducing learning rate to 0.0003000000142492354.\n",
      "5520/5520 [==============================] - 1s 150us/sample - loss: 0.3615 - accuracy: 0.8632 - val_loss: 0.6637 - val_accuracy: 0.7630\n",
      "Epoch 6/10\n",
      "5520/5520 [==============================] - 1s 136us/sample - loss: 0.2729 - accuracy: 0.9036 - val_loss: 0.5966 - val_accuracy: 0.7768\n",
      "Epoch 7/10\n",
      "5504/5520 [============================>.] - ETA: 0s - loss: 0.2497 - accuracy: 0.9117\n",
      "Epoch 00007: ReduceLROnPlateau reducing learning rate to 9.000000427477062e-05.\n",
      "5520/5520 [==============================] - 1s 139us/sample - loss: 0.2496 - accuracy: 0.9116 - val_loss: 0.6863 - val_accuracy: 0.7601\n",
      "Epoch 8/10\n",
      "5520/5520 [==============================] - 1s 137us/sample - loss: 0.2392 - accuracy: 0.9188 - val_loss: 0.6329 - val_accuracy: 0.7899\n",
      "Epoch 9/10\n",
      "5504/5520 [============================>.] - ETA: 0s - loss: 0.2248 - accuracy: 0.9239\n",
      "Epoch 00009: ReduceLROnPlateau reducing learning rate to 2.700000040931627e-05.\n",
      "5520/5520 [==============================] - 1s 146us/sample - loss: 0.2246 - accuracy: 0.9239 - val_loss: 0.6369 - val_accuracy: 0.7862\n",
      "Epoch 10/10\n",
      "5520/5520 [==============================] - 1s 150us/sample - loss: 0.2205 - accuracy: 0.9254 - val_loss: 0.6298 - val_accuracy: 0.7884\n"
     ]
    }
   ],
   "source": [
    "model.compile(optimizer=\"rmsprop\",\n",
    "              loss='sparse_categorical_crossentropy',\n",
    "              metrics=['accuracy']\n",
    ")\n",
    "# 学习率衰减\n",
    "learning_rate_reduction = tf.keras.callbacks.ReduceLROnPlateau(monitor='val_loss', patience=2, factor=0.3, min_lr=0.00001, verbose=1)\n",
    "train = model.fit(data_text, \n",
    "                  data_label, \n",
    "                  epochs=10, \n",
    "                  batch_size=128, \n",
    "                  validation_split=0.2,\n",
    "                  callbacks=[learning_rate_reduction])"
   ]
  },
  {
   "cell_type": "code",
   "execution_count": 25,
   "metadata": {},
   "outputs": [
    {
     "data": {
      "text/plain": [
       "<matplotlib.legend.Legend at 0x2954b646bc8>"
      ]
     },
     "execution_count": 25,
     "metadata": {},
     "output_type": "execute_result"
    },
    {
     "data": {
      "image/png": "[encoded data removed]",
      "text/plain": [
       "<Figure size 432x288 with 1 Axes>"
      ]
     },
     "metadata": {
      "needs_background": "light"
     },
     "output_type": "display_data"
    },
    {
     "data": {
      "image/png": "[encoded data removed]",
      "text/plain": [
       "<Figure size 432x288 with 1 Axes>"
      ]
     },
     "metadata": {
      "needs_background": "light"
     },
     "output_type": "display_data"
    }
   ],
   "source": [
    "# 训练过程可视化\n",
    "train_acc = train.history['accuracy']\n",
    "val_acc = train.history['val_accuracy']\n",
    "train_loss = train.history['loss']\n",
    "val_loss = train.history['val_loss']\n",
    "\n",
    "plt.title(\"accuray\")\n",
    "plt.plot(train.epoch, train_acc, label='train_acc')\n",
    "plt.plot(train.epoch, val_acc, label='val_acc')\n",
    "plt.legend(loc='upper left')\n",
    "\n",
    "plt.figure()\n",
    "plt.title(\"loss\")\n",
    "plt.plot(train.epoch, train_loss, label='train_loss')\n",
    "plt.plot(train.epoch, val_loss, label='val_loss')\n",
    "plt.legend(loc='upper left')"
   ]
  },
  {
   "cell_type": "code",
   "execution_count": null,
   "metadata": {},
   "outputs": [],
   "source": []
  }
 ],
 "metadata": {
  "kernelspec": {
   "display_name": "Python 3",
   "language": "python",
   "name": "python3"
  },
  "language_info": {
   "codemirror_mode": {
    "name": "ipython",
    "version": 3
   },
   "file_extension": ".py",
   "mimetype": "text/x-python",
   "name": "python",
   "nbconvert_exporter": "python",
   "pygments_lexer": "ipython3",
   "version": "3.7.5"
  }
 },
 "nbformat": 4,
 "nbformat_minor": 2
}
