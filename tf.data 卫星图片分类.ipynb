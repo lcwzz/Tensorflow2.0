{
 "cells": [
  {
   "cell_type": "markdown",
   "metadata": {},
   "source": [
    "# 卫星图片分类"
   ]
  },
  {
   "cell_type": "code",
   "execution_count": 1,
   "metadata": {},
   "outputs": [
    {
     "data": {
      "text/plain": [
       "'2.0.0'"
      ]
     },
     "execution_count": 1,
     "metadata": {},
     "output_type": "execute_result"
    }
   ],
   "source": [
    "import tensorflow as tf\n",
    "tf.__version__"
   ]
  },
  {
   "cell_type": "code",
   "execution_count": 2,
   "metadata": {},
   "outputs": [],
   "source": [
    "from tensorflow import keras\n",
    "import numpy as np\n",
    "import matplotlib.pyplot as plt\n",
    "import pathlib\n",
    "%matplotlib inline"
   ]
  },
  {
   "cell_type": "markdown",
   "metadata": {},
   "source": [
    "#### 读取数据"
   ]
  },
  {
   "cell_type": "code",
   "execution_count": 3,
   "metadata": {},
   "outputs": [
    {
     "data": {
      "text/plain": [
       "[WindowsPath('dataset/satellite_picture/airplane/airplane_001.jpg'),\n",
       " WindowsPath('dataset/satellite_picture/airplane/airplane_002.jpg'),\n",
       " WindowsPath('dataset/satellite_picture/airplane/airplane_003.jpg')]"
      ]
     },
     "execution_count": 3,
     "metadata": {},
     "output_type": "execute_result"
    }
   ],
   "source": [
    "# 数据目录\n",
    "data_dir = \"dataset/satellite_picture\"\n",
    "\n",
    "data_root = pathlib.Path(data_dir)\n",
    "# 所有文件的路径\n",
    "all_image_paths = list(data_root.glob('*/*'))\n",
    "all_image_paths[:3]"
   ]
  },
  {
   "cell_type": "code",
   "execution_count": 4,
   "metadata": {},
   "outputs": [
    {
     "data": {
      "text/plain": [
       "['dataset\\\\satellite_picture\\\\airplane\\\\airplane_001.jpg',\n",
       " 'dataset\\\\satellite_picture\\\\airplane\\\\airplane_002.jpg',\n",
       " 'dataset\\\\satellite_picture\\\\airplane\\\\airplane_003.jpg']"
      ]
     },
     "execution_count": 4,
     "metadata": {},
     "output_type": "execute_result"
    }
   ],
   "source": [
    "# 转为字符串\n",
    "all_image_paths = [str(path) for path in all_image_paths]\n",
    "all_image_paths[:3]"
   ]
  },
  {
   "cell_type": "code",
   "execution_count": 5,
   "metadata": {},
   "outputs": [
    {
     "data": {
      "text/plain": [
       "1400"
      ]
     },
     "execution_count": 5,
     "metadata": {},
     "output_type": "execute_result"
    }
   ],
   "source": [
    "# 数据集总数\n",
    "image_num = len(all_image_paths)\n",
    "image_num"
   ]
  },
  {
   "cell_type": "markdown",
   "metadata": {},
   "source": [
    "#### 创建训练集"
   ]
  },
  {
   "cell_type": "code",
   "execution_count": 6,
   "metadata": {},
   "outputs": [],
   "source": [
    "# 加载图片的函数\n",
    "def load_one_image(path):\n",
    "    raw_img = keras.preprocessing.image.load_img(path, target_size=(256, 256))\n",
    "    img = keras.preprocessing.image.img_to_array(raw_img)\n",
    "    img = img / 255.0\n",
    "    #plt.imshow(img)\n",
    "    return img\n",
    "#load_one_image(all_image_paths[0])"
   ]
  },
  {
   "cell_type": "code",
   "execution_count": 7,
   "metadata": {},
   "outputs": [
    {
     "data": {
      "text/plain": [
       "(1400, 256, 256, 3)"
      ]
     },
     "execution_count": 7,
     "metadata": {},
     "output_type": "execute_result"
    }
   ],
   "source": [
    "def load_images(image_path_list):\n",
    "    image_dataset = []\n",
    "    for path in image_path_list:\n",
    "        image_dataset.append(load_one_image(path))\n",
    "    return np.array(image_dataset)\n",
    "image_dataset = load_images(all_image_paths)\n",
    "image_dataset.shape"
   ]
  },
  {
   "cell_type": "markdown",
   "metadata": {},
   "source": [
    "#### 创建标签"
   ]
  },
  {
   "cell_type": "code",
   "execution_count": 8,
   "metadata": {},
   "outputs": [
    {
     "data": {
      "text/plain": [
       "['airplane', 'lake']"
      ]
     },
     "execution_count": 8,
     "metadata": {},
     "output_type": "execute_result"
    }
   ],
   "source": [
    "# 标签的名字\n",
    "label_names = sorted([item.name for item in data_root.glob('*/')])\n",
    "label_names"
   ]
  },
  {
   "cell_type": "code",
   "execution_count": 9,
   "metadata": {},
   "outputs": [
    {
     "data": {
      "text/plain": [
       "{'airplane': 0, 'lake': 1}"
      ]
     },
     "execution_count": 9,
     "metadata": {},
     "output_type": "execute_result"
    }
   ],
   "source": [
    "# 标签名字到标签序号\n",
    "name_to_index = dict((name, index) for index, name in enumerate(label_names))\n",
    "name_to_index"
   ]
  },
  {
   "cell_type": "code",
   "execution_count": 10,
   "metadata": {},
   "outputs": [
    {
     "data": {
      "text/plain": [
       "[0, 0, 0]"
      ]
     },
     "execution_count": 10,
     "metadata": {},
     "output_type": "execute_result"
    }
   ],
   "source": [
    "label_dataset = [name_to_index[pathlib.Path(path).parent.name] for path in all_image_paths]\n",
    "label_dataset[0:3]"
   ]
  },
  {
   "cell_type": "markdown",
   "metadata": {},
   "source": [
    "#### 构建tf.data对象"
   ]
  },
  {
   "cell_type": "code",
   "execution_count": 11,
   "metadata": {},
   "outputs": [
    {
     "data": {
      "text/plain": [
       "<TensorSliceDataset shapes: (256, 256, 3), types: tf.float32>"
      ]
     },
     "execution_count": 11,
     "metadata": {},
     "output_type": "execute_result"
    }
   ],
   "source": [
    "image_dataset = tf.data.Dataset.from_tensor_slices(image_dataset)\n",
    "image_dataset"
   ]
  },
  {
   "cell_type": "code",
   "execution_count": 12,
   "metadata": {},
   "outputs": [
    {
     "data": {
      "text/plain": [
       "<TensorSliceDataset shapes: (), types: tf.int32>"
      ]
     },
     "execution_count": 12,
     "metadata": {},
     "output_type": "execute_result"
    }
   ],
   "source": [
    "label_dataset = tf.data.Dataset.from_tensor_slices(label_dataset)\n",
    "label_dataset"
   ]
  },
  {
   "cell_type": "code",
   "execution_count": 13,
   "metadata": {},
   "outputs": [
    {
     "data": {
      "text/plain": [
       "<ZipDataset shapes: ((256, 256, 3), ()), types: (tf.float32, tf.int32)>"
      ]
     },
     "execution_count": 13,
     "metadata": {},
     "output_type": "execute_result"
    }
   ],
   "source": [
    "dataset = tf.data.Dataset.zip((image_dataset, label_dataset))\n",
    "dataset"
   ]
  },
  {
   "cell_type": "markdown",
   "metadata": {},
   "source": [
    "#### 分离训练集和验证集"
   ]
  },
  {
   "cell_type": "code",
   "execution_count": 14,
   "metadata": {},
   "outputs": [],
   "source": [
    "dataset = dataset.shuffle(image_num)"
   ]
  },
  {
   "cell_type": "code",
   "execution_count": 15,
   "metadata": {},
   "outputs": [
    {
     "name": "stdout",
     "output_type": "stream",
     "text": [
      "train_num: 1120\n",
      "validation_num: 280\n",
      "train_data: <SkipDataset shapes: ((256, 256, 3), ()), types: (tf.float32, tf.int32)>\n",
      "validation_data: <TakeDataset shapes: ((256, 256, 3), ()), types: (tf.float32, tf.int32)>\n"
     ]
    }
   ],
   "source": [
    "validation_num = int(image_num * 0.2)\n",
    "train_num = image_num - validation_num\n",
    "print(\"train_num:\", train_num)\n",
    "print(\"validation_num:\", validation_num)\n",
    "train_data = dataset.skip(validation_num)\n",
    "validation_data = dataset.take(validation_num)\n",
    "print(\"train_data:\", train_data)\n",
    "print(\"validation_data:\", validation_data)"
   ]
  },
  {
   "cell_type": "code",
   "execution_count": 16,
   "metadata": {},
   "outputs": [],
   "source": [
    "BATCH_SIZE = 32\n",
    "train_data = train_data.shuffle(train_num).repeat().batch(BATCH_SIZE)\n",
    "validation_data = validation_data.batch(BATCH_SIZE)"
   ]
  },
  {
   "cell_type": "markdown",
   "metadata": {},
   "source": [
    "#### 构建模型训练"
   ]
  },
  {
   "cell_type": "code",
   "execution_count": 17,
   "metadata": {},
   "outputs": [
    {
     "name": "stdout",
     "output_type": "stream",
     "text": [
      "Model: \"sequential\"\n",
      "_________________________________________________________________\n",
      "Layer (type)                 Output Shape              Param #   \n",
      "=================================================================\n",
      "conv2d (Conv2D)              (None, 254, 254, 64)      1792      \n",
      "_________________________________________________________________\n",
      "conv2d_1 (Conv2D)            (None, 252, 252, 64)      36928     \n",
      "_________________________________________________________________\n",
      "max_pooling2d (MaxPooling2D) (None, 126, 126, 64)      0         \n",
      "_________________________________________________________________\n",
      "conv2d_2 (Conv2D)            (None, 124, 124, 128)     73856     \n",
      "_________________________________________________________________\n",
      "conv2d_3 (Conv2D)            (None, 122, 122, 128)     147584    \n",
      "_________________________________________________________________\n",
      "max_pooling2d_1 (MaxPooling2 (None, 61, 61, 128)       0         \n",
      "_________________________________________________________________\n",
      "conv2d_4 (Conv2D)            (None, 59, 59, 256)       295168    \n",
      "_________________________________________________________________\n",
      "conv2d_5 (Conv2D)            (None, 57, 57, 256)       590080    \n",
      "_________________________________________________________________\n",
      "max_pooling2d_2 (MaxPooling2 (None, 28, 28, 256)       0         \n",
      "_________________________________________________________________\n",
      "conv2d_6 (Conv2D)            (None, 26, 26, 512)       1180160   \n",
      "_________________________________________________________________\n",
      "max_pooling2d_3 (MaxPooling2 (None, 13, 13, 512)       0         \n",
      "_________________________________________________________________\n",
      "conv2d_7 (Conv2D)            (None, 11, 11, 512)       2359808   \n",
      "_________________________________________________________________\n",
      "max_pooling2d_4 (MaxPooling2 (None, 5, 5, 512)         0         \n",
      "_________________________________________________________________\n",
      "conv2d_8 (Conv2D)            (None, 3, 3, 1024)        4719616   \n",
      "_________________________________________________________________\n",
      "global_average_pooling2d (Gl (None, 1024)              0         \n",
      "_________________________________________________________________\n",
      "dense (Dense)                (None, 1024)              1049600   \n",
      "_________________________________________________________________\n",
      "dense_1 (Dense)              (None, 256)               262400    \n",
      "_________________________________________________________________\n",
      "dense_2 (Dense)              (None, 10)                2570      \n",
      "=================================================================\n",
      "Total params: 10,719,562\n",
      "Trainable params: 10,719,562\n",
      "Non-trainable params: 0\n",
      "_________________________________________________________________\n"
     ]
    }
   ],
   "source": [
    "model = tf.keras.Sequential()   #顺序模型\n",
    "model.add(tf.keras.layers.Conv2D(64, (3, 3), input_shape=(256, 256, 3), activation='relu'))\n",
    "model.add(tf.keras.layers.Conv2D(64, (3, 3), activation='relu'))\n",
    "model.add(tf.keras.layers.MaxPooling2D())\n",
    "model.add(tf.keras.layers.Conv2D(128, (3, 3), activation='relu'))\n",
    "model.add(tf.keras.layers.Conv2D(128, (3, 3), activation='relu'))\n",
    "model.add(tf.keras.layers.MaxPooling2D())\n",
    "model.add(tf.keras.layers.Conv2D(256, (3, 3), activation='relu'))\n",
    "model.add(tf.keras.layers.Conv2D(256, (3, 3), activation='relu'))\n",
    "model.add(tf.keras.layers.MaxPooling2D())\n",
    "model.add(tf.keras.layers.Conv2D(512, (3, 3), activation='relu'))\n",
    "model.add(tf.keras.layers.MaxPooling2D())\n",
    "model.add(tf.keras.layers.Conv2D(512, (3, 3), activation='relu'))\n",
    "model.add(tf.keras.layers.MaxPooling2D())\n",
    "model.add(tf.keras.layers.Conv2D(1024, (3, 3), activation='relu'))\n",
    "model.add(tf.keras.layers.GlobalAveragePooling2D())\n",
    "model.add(tf.keras.layers.Dense(1024, activation='relu'))\n",
    "model.add(tf.keras.layers.Dense(256, activation='relu'))\n",
    "model.add(tf.keras.layers.Dense(10, activation='softmax'))\n",
    "\n",
    "model.summary()"
   ]
  },
  {
   "cell_type": "code",
   "execution_count": 18,
   "metadata": {},
   "outputs": [],
   "source": [
    "model.compile(optimizer = keras.optimizers.Adam(),\n",
    "              loss = \"sparse_categorical_crossentropy\",\n",
    "              metrics = [\"accuracy\"]\n",
    ")"
   ]
  },
  {
   "cell_type": "code",
   "execution_count": 19,
   "metadata": {
    "scrolled": true
   },
   "outputs": [
    {
     "name": "stdout",
     "output_type": "stream",
     "text": [
      "Train for 35 steps, validate for 8 steps\n",
      "Epoch 1/10\n",
      "35/35 [==============================] - 42s 1s/step - loss: 1.0598 - accuracy: 0.4795 - val_loss: 0.6972 - val_accuracy: 0.4688\n",
      "Epoch 2/10\n",
      "35/35 [==============================] - 34s 974ms/step - loss: 0.7008 - accuracy: 0.5000 - val_loss: 0.7132 - val_accuracy: 0.4922\n",
      "Epoch 3/10\n",
      "35/35 [==============================] - 36s 1s/step - loss: 0.6338 - accuracy: 0.5848 - val_loss: 0.2292 - val_accuracy: 0.9141\n",
      "Epoch 4/10\n",
      "35/35 [==============================] - 36s 1s/step - loss: 0.5779 - accuracy: 0.8134 - val_loss: 0.3252 - val_accuracy: 0.8867\n",
      "Epoch 5/10\n",
      "35/35 [==============================] - 36s 1s/step - loss: 0.2716 - accuracy: 0.8884 - val_loss: 0.2517 - val_accuracy: 0.9023\n",
      "Epoch 6/10\n",
      "35/35 [==============================] - 34s 967ms/step - loss: 0.1899 - accuracy: 0.9545 - val_loss: 0.1407 - val_accuracy: 0.9531\n",
      "Epoch 7/10\n",
      "35/35 [==============================] - 34s 975ms/step - loss: 0.1814 - accuracy: 0.9438 - val_loss: 0.1927 - val_accuracy: 0.9688\n",
      "Epoch 8/10\n",
      "35/35 [==============================] - 35s 990ms/step - loss: 0.1498 - accuracy: 0.9571 - val_loss: 0.1319 - val_accuracy: 0.9648\n",
      "Epoch 9/10\n",
      "35/35 [==============================] - 37s 1s/step - loss: 0.1088 - accuracy: 0.9616 - val_loss: 0.0945 - val_accuracy: 0.9766\n",
      "Epoch 10/10\n",
      "35/35 [==============================] - 35s 988ms/step - loss: 0.1103 - accuracy: 0.9652 - val_loss: 0.1430 - val_accuracy: 0.9570\n"
     ]
    }
   ],
   "source": [
    "train_steps = train_num // BATCH_SIZE\n",
    "val_steps = validation_num // BATCH_SIZE\n",
    "train_history = model.fit(train_data,\n",
    "                          epochs = 10,\n",
    "                          steps_per_epoch = train_steps,\n",
    "                          validation_data = validation_data,\n",
    "                          validation_steps = val_steps\n",
    ")"
   ]
  },
  {
   "cell_type": "markdown",
   "metadata": {},
   "source": [
    "#### 打印训练图线"
   ]
  },
  {
   "cell_type": "code",
   "execution_count": 20,
   "metadata": {},
   "outputs": [
    {
     "data": {
      "text/plain": [
       "dict_keys(['loss', 'accuracy', 'val_loss', 'val_accuracy'])"
      ]
     },
     "execution_count": 20,
     "metadata": {},
     "output_type": "execute_result"
    }
   ],
   "source": [
    "train_history.history.keys()"
   ]
  },
  {
   "cell_type": "code",
   "execution_count": 23,
   "metadata": {},
   "outputs": [
    {
     "data": {
      "text/plain": [
       "<matplotlib.legend.Legend at 0x28407831788>"
      ]
     },
     "execution_count": 23,
     "metadata": {},
     "output_type": "execute_result"
    },
    {
     "data": {
      "image/png": "[encoded data removed]",
      "text/plain": [
       "<Figure size 432x288 with 1 Axes>"
      ]
     },
     "metadata": {
      "needs_background": "light"
     },
     "output_type": "display_data"
    }
   ],
   "source": [
    "train_loss = train_history.history[\"loss\"]\n",
    "train_acc = train_history.history[\"accuracy\"]\n",
    "val_loss = train_history.history[\"val_loss\"]\n",
    "val_acc = train_history.history[\"val_accuracy\"]\n",
    "\n",
    "plt.plot(train_history.epoch, train_loss, label='train_loss')\n",
    "plt.plot(train_history.epoch, val_loss, label='val_loss')\n",
    "plt.legend()"
   ]
  },
  {
   "cell_type": "code",
   "execution_count": 24,
   "metadata": {},
   "outputs": [
    {
     "data": {
      "text/plain": [
       "<matplotlib.legend.Legend at 0x2841cd34fc8>"
      ]
     },
     "execution_count": 24,
     "metadata": {},
     "output_type": "execute_result"
    },
    {
     "data": {
      "image/png": "[encoded data removed]",
      "text/plain": [
       "<Figure size 432x288 with 1 Axes>"
      ]
     },
     "metadata": {
      "needs_background": "light"
     },
     "output_type": "display_data"
    }
   ],
   "source": [
    "plt.plot(train_history.epoch, train_acc, label='train_acc')\n",
    "plt.plot(train_history.epoch, val_acc, label='val_acc')\n",
    "plt.legend()"
   ]
  }
 ],
 "metadata": {
  "kernelspec": {
   "display_name": "Python 3",
   "language": "python",
   "name": "python3"
  },
  "language_info": {
   "codemirror_mode": {
    "name": "ipython",
    "version": 3
   },
   "file_extension": ".py",
   "mimetype": "text/x-python",
   "name": "python",
   "nbconvert_exporter": "python",
   "pygments_lexer": "ipython3",
   "version": "3.7.5"
  }
 },
 "nbformat": 4,
 "nbformat_minor": 2
}
